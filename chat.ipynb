{
 "cells": [
  {
   "cell_type": "markdown",
   "id": "5b9bd16f-d44c-4277-ba7b-c0448a7404ed",
   "metadata": {},
   "source": [
    "\n",
    "#VSC-5f5d8648\n",
    "markdown\n",
    "# Telebot AI Chatbot Notebook\n",
    "\n",
    "Enter your `API_KEY` and `PROMPT` below. (Mandatory)\n",
    "\n",
    "**How to get an API key**: Visit https://cloud.sambanova.ai/apis, sign in or create an account, then create an API key from the dashboard. Copy the key and keep it secret."
   ]
  },
  {
   "cell_type": "code",
   "execution_count": null,
   "id": "5af1d6dd",
   "metadata": {},
   "outputs": [],
   "source": [
    "import os\n",
    "if not os.path.exists('Telebot-jupyterlab'):\n",
    "    !git clone https://github.com/Soumyabrataop/Telebot-jupyterlab\n",
    "else:\n",
    "    print(\"Repository already exists, skipping clone...\")"
   ]
  },
  {
   "cell_type": "code",
   "execution_count": null,
   "id": "cbd5d75f",
   "metadata": {},
   "outputs": [],
   "source": [
    "%cd Telebot-jupyterlab"
   ]
  },
  {
   "cell_type": "code",
   "execution_count": null,
   "id": "ce18a4b0",
   "metadata": {
    "scrolled": true
   },
   "outputs": [],
   "source": [
    "!pip install -r requirements.txt"
   ]
  },
  {
   "cell_type": "code",
   "execution_count": null,
   "id": "a15d8f20",
   "metadata": {},
   "outputs": [],
   "source": [
    "PROMPT = \"Your prompt here\""
   ]
  },
  {
   "cell_type": "code",
   "execution_count": null,
   "id": "6e1500b6",
   "metadata": {},
   "outputs": [],
   "source": [
    "API_KEY = \"your_api_key_here\""
   ]
  },
  {
   "cell_type": "code",
   "execution_count": 29,
   "id": "6c6aa137",
   "metadata": {
    "scrolled": true
   },
   "outputs": [
    {
     "data": {
      "text/markdown": [
       "Below is a **TPY‑compatible** snippet that  \n",
       "\n",
       "1. Sends a message with an **inline button** labeled **“Get example.com”**.  \n",
       "2. When the user clicks the button, the bot makes an HTTP **GET** request to `https://example.com` using the sandbox‑approved `libs.customHTTP`.  \n",
       "3. The raw response (as text) is sent back to the same chat.  \n",
       "\n",
       "All code follows the required TPY indentation, includes basic error handling, and uses only whitelisted functions.\n",
       "\n",
       "```python\n",
       "# -------------------------------------------------\n",
       "# 1️⃣  Send the button to the user\n",
       "# -------------------------------------------------\n",
       "try:\n",
       "    # Inline keyboard with a single button.\n",
       "    # The button’s `callback_data` is the name of the next command we’ll handle.\n",
       "    keyboard = [\n",
       "        [{\"text\": \"Get example.com\", \"callback_data\": \"fetch_example\"}]\n",
       "    ]\n",
       "\n",
       "    bot.sendMessage(\n",
       "        chat_id=message.chat.id,\n",
       "        text=\"Press the button to fetch the response from example.com:\",\n",
       "        reply_markup={\"inline_keyboard\": keyboard}\n",
       "    )\n",
       "except Exception as e:\n",
       "    bot.sendMessage(\n",
       "        chat_id=message.chat.id,\n",
       "        text=f\"Error while sending button – {str(e)}\"\n",
       "    )\n",
       "\n",
       "# -------------------------------------------------\n",
       "# 2️⃣  Handle the button click (callback)\n",
       "# -------------------------------------------------\n",
       "# The sandbox treats a callback as a normal command identified by the\n",
       "# `callback_data` value.  We therefore register a handler for the\n",
       "# command name “fetch_example”.\n",
       "def fetch_example():\n",
       "    try:\n",
       "        # Create an HTTP client (allowed library)\n",
       "        http_client = libs.customHTTP()\n",
       "\n",
       "        # Perform the GET request\n",
       "        response = http_client.get(\"https://example.com\")\n",
       "\n",
       "        # Try to get a readable string from the response.\n",
       "        # `response.text` works for plain HTML; if the endpoint returns JSON,\n",
       "        # we fall back to `response.json()` and convert it to a string.\n",
       "        if hasattr(response, \"text\"):\n",
       "            content = response.text\n",
       "        else:\n",
       "            # `response.json()` returns a dict – turn it into a pretty string\n",
       "            content = str(response.json())\n",
       "\n",
       "        # Send the fetched data back to the user\n",
       "        bot.sendMessage(\n",
       "            chat_id=message.chat.id,\n",
       "            text=f\"✅ Response from example.com:\\n{content}\"\n",
       "        )\n",
       "\n",
       "        # Clean up the HTTP client\n",
       "        http_client.close()\n",
       "    except Exception as e:\n",
       "        bot.sendMessage(\n",
       "            chat_id=message.chat.id,\n",
       "            text=f\"❌ Failed to fetch data – {str(e)}\"\n",
       "        )\n",
       "\n",
       "# Register the callback handler (TPY uses `Bot.handleCallback` for this purpose)\n",
       "Bot.handleCallback(\"fetch_example\", fetch_example)\n",
       "```\n",
       "\n",
       "### How it works\n",
       "\n",
       "| Step | What happens |\n",
       "|------|--------------|\n",
       "| **Button sent** | `bot.sendMessage` includes an `inline_keyboard` with `callback_data=\"fetch_example\"`. |\n",
       "| **User clicks** | The sandbox triggers the callback named **`fetch_example`**. |\n",
       "| **Callback runs** | `fetch_example()` creates a `libs.customHTTP` client, GET‑s `https://example.com`, extracts the response text (or JSON), and replies with the content. |\n",
       "| **Error handling** | Any exception in sending the button or performing the request is caught and reported to the user. |\n",
       "\n",
       "Feel free to copy‑paste the whole block into your bot script. The button will appear the first time the user runs the command that contains this code, and clicking it will return the live response from *example.com*."
      ],
      "text/plain": [
       "<IPython.core.display.Markdown object>"
      ]
     },
     "metadata": {},
     "output_type": "display_data"
    }
   ],
   "source": [
    "from IPython.display import Markdown, display\n",
    "import process\n",
    "\n",
    "response = process.call_sambanova_chat(prompt=PROMPT, api_key=API_KEY)\n",
    "display(Markdown(response))"
   ]
  },
  {
   "cell_type": "code",
   "execution_count": 30,
   "id": "e0fcd7d9",
   "metadata": {},
   "outputs": [
    {
     "name": "stdout",
     "output_type": "stream",
     "text": [
      "C:\\Users\\Madan Mohan Malviya\n"
     ]
    }
   ],
   "source": [
    "%cd .."
   ]
  }
 ],
 "metadata": {
  "kernelspec": {
   "display_name": "Python 3 (ipykernel)",
   "language": "python",
   "name": "python3"
  },
  "language_info": {
   "codemirror_mode": {
    "name": "ipython",
    "version": 3
   },
   "file_extension": ".py",
   "mimetype": "text/x-python",
   "name": "python",
   "nbconvert_exporter": "python",
   "pygments_lexer": "ipython3",
   "version": "3.11.0"
  }
 },
 "nbformat": 4,
 "nbformat_minor": 5
}
