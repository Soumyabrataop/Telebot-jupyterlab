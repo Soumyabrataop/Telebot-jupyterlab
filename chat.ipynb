{
 "cells": [
  {
   "cell_type": "markdown",
   "id": "5b9bd16f-d44c-4277-ba7b-c0448a7404ed",
   "metadata": {},
   "source": [
    "\n",
    "#VSC-5f5d8648\n",
    "markdown\n",
    "# Telebot AI Chatbot Notebook\n",
    "\n",
    "Enter your `API_KEY` and `PROMPT` below. (Mandatory)\n",
    "\n",
    "**How to get an API key**: Visit https://cloud.sambanova.ai/apis, sign in or create an account, then create an API key from the dashboard. Copy the key and keep it secret."
   ]
  },
  {
   "cell_type": "code",
   "execution_count": null,
   "id": "5af1d6dd",
   "metadata": {},
   "outputs": [],
   "source": [
    "import os\n",
    "if not os.path.exists('Telebot-jupyterlab'):\n",
    "    !git clone https://github.com/Soumyabrataop/Telebot-jupyterlab\n",
    "else:\n",
    "    print(\"Repository already exists, skipping clone...\")"
   ]
  },
  {
   "cell_type": "code",
   "execution_count": null,
   "id": "cbd5d75f",
   "metadata": {},
   "outputs": [],
   "source": [
    "%cd Telebot-jupyterlab"
   ]
  },
  {
   "cell_type": "code",
   "execution_count": null,
   "id": "ce18a4b0",
   "metadata": {
    "scrolled": true
   },
   "outputs": [],
   "source": [
    "!pip install -r requirements.txt"
   ]
  },
  {
   "cell_type": "code",
   "execution_count": null,
   "id": "390961f4",
   "metadata": {},
   "outputs": [],
   "source": [
    "# Debug: Check cache status\n",
    "import os\n",
    "from pathlib import Path\n",
    "\n",
    "docs_path = Path(\"telebot_docs\")\n",
    "cache_path = docs_path / \"embeddings_cache.pkl\"\n",
    "\n",
    "print(f\"Current working directory: {os.getcwd()}\")\n",
    "print(f\"Docs directory exists: {docs_path.exists()}\")\n",
    "print(f\"Cache file exists: {cache_path.exists()}\")\n",
    "\n",
    "if cache_path.exists():\n",
    "    print(f\"Cache file size: {cache_path.stat().st_size} bytes\")\n",
    "    \n",
    "    # Try to load and inspect the cache\n",
    "    import pickle\n",
    "    try:\n",
    "        with open(cache_path, 'rb') as f:\n",
    "            cache_data = pickle.load(f)\n",
    "        print(f\"Cache keys: {list(cache_data.keys())}\")\n",
    "        if 'chunks' in cache_data:\n",
    "            print(f\"Number of chunks: {len(cache_data['chunks'])}\")\n",
    "        if 'docs_hash' in cache_data:\n",
    "            print(f\"Cached docs hash: {cache_data['docs_hash']}\")\n",
    "    except Exception as e:\n",
    "        print(f\"Error loading cache: {e}\")\n",
    "\n",
    "# List markdown files in docs directory\n",
    "if docs_path.exists():\n",
    "    md_files = list(docs_path.glob('*.md'))\n",
    "    print(f\"Markdown files in docs directory: {len(md_files)}\")\n",
    "    for f in md_files[:5]:  # Show first 5\n",
    "        print(f\"  - {f.name}\")\n",
    "    if len(md_files) > 5:\n",
    "        print(f\"  ... and {len(md_files) - 5} more files\")"
   ]
  },
  {
   "cell_type": "code",
   "execution_count": null,
   "id": "83d31466",
   "metadata": {},
   "outputs": [],
   "source": [
    "# Test loading embeddings with detailed diagnostics\n",
    "import process\n",
    "\n",
    "# Reset any cached data\n",
    "process._cached_embeddings = None\n",
    "process._cached_chunks = None\n",
    "process._cached_metadata = None\n",
    "\n",
    "# Try to load embeddings\n",
    "docs_path = Path(\"telebot_docs\")\n",
    "embeddings, chunks, metadata = process.get_cached_embeddings(docs_path, force_load=True)\n",
    "\n",
    "print(f\"Embeddings shape: {embeddings.shape if embeddings.size > 0 else 'Empty'}\")\n",
    "print(f\"Number of chunks: {len(chunks)}\")\n",
    "print(f\"Number of metadata entries: {len(metadata)}\")\n",
    "\n",
    "if len(chunks) > 0:\n",
    "    print(\"✅ Cache loaded successfully!\")\n",
    "    print(f\"Sample chunk: {chunks[0][:100]}...\")\n",
    "else:\n",
    "    print(\"❌ Failed to load cache\")"
   ]
  },
  {
   "cell_type": "code",
   "execution_count": null,
   "id": "a15d8f20",
   "metadata": {},
   "outputs": [],
   "source": [
    "PROMPT = \"Your prompt here\""
   ]
  },
  {
   "cell_type": "code",
   "execution_count": null,
   "id": "6e1500b6",
   "metadata": {},
   "outputs": [],
   "source": [
    "API_KEY = \"your_api_key_here\""
   ]
  },
  {
   "cell_type": "code",
   "execution_count": null,
   "id": "6c6aa137",
   "metadata": {
    "scrolled": true
   },
   "outputs": [],
   "source": [
    "# Main chat interface\n",
    "from IPython.display import Markdown, display\n",
    "import process\n",
    "\n",
    "# Ensure we have a valid API key and prompt\n",
    "if 'API_KEY' not in locals() or API_KEY == \"your_api_key_here\":\n",
    "    print(\"❌ Please set your API_KEY in the cell above\")\n",
    "elif 'PROMPT' not in locals() or PROMPT == \"Your prompt here\":\n",
    "    print(\"❌ Please set your PROMPT in the cell above\")\n",
    "else:\n",
    "    print(\"🤖 Processing your request...\")\n",
    "    response = process.call_sambanova_chat(prompt=PROMPT, api_key=API_KEY)\n",
    "    \n",
    "    if response.startswith(\"Error:\"):\n",
    "        print(\"❌ Error occurred:\")\n",
    "        print(response)\n",
    "        print(\"\\n💡 If you see cache-related errors, try running the diagnostic cells above to troubleshoot.\")\n",
    "    else:\n",
    "        print(\"✅ Response generated successfully!\")\n",
    "        display(Markdown(response))"
   ]
  },
  {
   "cell_type": "code",
   "execution_count": null,
   "id": "e0fcd7d9",
   "metadata": {},
   "outputs": [],
   "source": [
    "%cd .."
   ]
  }
 ],
 "metadata": {
  "kernelspec": {
   "display_name": "Python 3 (ipykernel)",
   "language": "python",
   "name": "python3"
  },
  "language_info": {
   "codemirror_mode": {
    "name": "ipython",
    "version": 3
   },
   "file_extension": ".py",
   "mimetype": "text/x-python",
   "name": "python",
   "nbconvert_exporter": "python",
   "pygments_lexer": "ipython3",
   "version": "3.11.0"
  }
 },
 "nbformat": 4,
 "nbformat_minor": 5
}
