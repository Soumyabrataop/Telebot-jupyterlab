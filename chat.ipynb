{
 "cells": [
  {
   "cell_type": "markdown",
   "id": "5b9bd16f-d44c-4277-ba7b-c0448a7404ed",
   "metadata": {},
   "source": [
    "\n",
    "#VSC-5f5d8648\n",
    "markdown\n",
    "# Telebot AI Chatbot Notebook\n",
    "\n",
    "Enter your `API_KEY` and `PROMPT` below. (Mandatory)\n",
    "\n",
    "**How to get an API key**: Visit https://cloud.sambanova.ai/apis, sign in or create an account, then create an API key from the dashboard. Copy the key and keep it secret."
   ]
  },
  {
   "cell_type": "code",
   "execution_count": 1,
   "id": "5af1d6dd",
   "metadata": {},
   "outputs": [
    {
     "name": "stderr",
     "output_type": "stream",
     "text": [
      "Cloning into 'Telebot-jupyterlab'...\n"
     ]
    }
   ],
   "source": [
    "import os\n",
    "if not os.path.exists('Telebot-jupyterlab'):\n",
    "    !git clone https://github.com/Soumyabrataop/Telebot-jupyterlab\n",
    "else:\n",
    "    print(\"Repository already exists, skipping clone...\")"
   ]
  },
  {
   "cell_type": "code",
   "execution_count": 2,
   "id": "cbd5d75f",
   "metadata": {},
   "outputs": [
    {
     "name": "stdout",
     "output_type": "stream",
     "text": [
      "C:\\Users\\Madan Mohan Malviya\\Telebot-jupyterlab\\Telebot-jupyterlab\n"
     ]
    }
   ],
   "source": [
    "%cd Telebot-jupyterlab"
   ]
  },
  {
   "cell_type": "code",
   "execution_count": 3,
   "id": "ce18a4b0",
   "metadata": {
    "scrolled": true
   },
   "outputs": [
    {
     "name": "stdout",
     "output_type": "stream",
     "text": [
      "Requirement already satisfied: requests>=2.28.0 in c:\\users\\madan mohan malviya\\appdata\\local\\programs\\python\\python311\\lib\\site-packages (from -r requirements.txt (line 1)) (2.32.3)\n",
      "Requirement already satisfied: beautifulsoup4>=4.12.0 in c:\\users\\madan mohan malviya\\appdata\\local\\programs\\python\\python311\\lib\\site-packages (from -r requirements.txt (line 2)) (4.13.5)\n",
      "Requirement already satisfied: openai>=1.0.0 in c:\\users\\madan mohan malviya\\appdata\\local\\programs\\python\\python311\\lib\\site-packages (from -r requirements.txt (line 3)) (1.108.0)\n",
      "Requirement already satisfied: faiss-cpu>=1.7.4 in c:\\users\\madan mohan malviya\\appdata\\local\\programs\\python\\python311\\lib\\site-packages (from -r requirements.txt (line 4)) (1.12.0)\n",
      "Requirement already satisfied: numpy>=1.21.0 in c:\\users\\madan mohan malviya\\appdata\\local\\programs\\python\\python311\\lib\\site-packages (from -r requirements.txt (line 5)) (2.3.3)\n",
      "Requirement already satisfied: ipython>=7.0.0 in c:\\users\\madan mohan malviya\\appdata\\local\\programs\\python\\python311\\lib\\site-packages (from -r requirements.txt (line 6)) (9.5.0)\n",
      "Requirement already satisfied: aiohttp>=3.8.0 in c:\\users\\madan mohan malviya\\appdata\\local\\programs\\python\\python311\\lib\\site-packages (from -r requirements.txt (line 7)) (3.12.13)\n",
      "Requirement already satisfied: charset-normalizer<4,>=2 in c:\\users\\madan mohan malviya\\appdata\\local\\programs\\python\\python311\\lib\\site-packages (from requests>=2.28.0->-r requirements.txt (line 1)) (3.4.2)\n",
      "Requirement already satisfied: idna<4,>=2.5 in c:\\users\\madan mohan malviya\\appdata\\local\\programs\\python\\python311\\lib\\site-packages (from requests>=2.28.0->-r requirements.txt (line 1)) (3.10)\n",
      "Requirement already satisfied: urllib3<3,>=1.21.1 in c:\\users\\madan mohan malviya\\appdata\\local\\programs\\python\\python311\\lib\\site-packages (from requests>=2.28.0->-r requirements.txt (line 1)) (2.4.0)\n",
      "Requirement already satisfied: certifi>=2017.4.17 in c:\\users\\madan mohan malviya\\appdata\\local\\programs\\python\\python311\\lib\\site-packages (from requests>=2.28.0->-r requirements.txt (line 1)) (2025.4.26)\n",
      "Requirement already satisfied: soupsieve>1.2 in c:\\users\\madan mohan malviya\\appdata\\local\\programs\\python\\python311\\lib\\site-packages (from beautifulsoup4>=4.12.0->-r requirements.txt (line 2)) (2.8)\n",
      "Requirement already satisfied: typing-extensions>=4.0.0 in c:\\users\\madan mohan malviya\\appdata\\local\\programs\\python\\python311\\lib\\site-packages (from beautifulsoup4>=4.12.0->-r requirements.txt (line 2)) (4.14.0)\n",
      "Requirement already satisfied: anyio<5,>=3.5.0 in c:\\users\\madan mohan malviya\\appdata\\local\\programs\\python\\python311\\lib\\site-packages (from openai>=1.0.0->-r requirements.txt (line 3)) (4.10.0)\n",
      "Requirement already satisfied: distro<2,>=1.7.0 in c:\\users\\madan mohan malviya\\appdata\\local\\programs\\python\\python311\\lib\\site-packages (from openai>=1.0.0->-r requirements.txt (line 3)) (1.9.0)\n",
      "Requirement already satisfied: httpx<1,>=0.23.0 in c:\\users\\madan mohan malviya\\appdata\\local\\programs\\python\\python311\\lib\\site-packages (from openai>=1.0.0->-r requirements.txt (line 3)) (0.28.1)\n",
      "Requirement already satisfied: jiter<1,>=0.4.0 in c:\\users\\madan mohan malviya\\appdata\\local\\programs\\python\\python311\\lib\\site-packages (from openai>=1.0.0->-r requirements.txt (line 3)) (0.11.0)\n",
      "Requirement already satisfied: pydantic<3,>=1.9.0 in c:\\users\\madan mohan malviya\\appdata\\local\\programs\\python\\python311\\lib\\site-packages (from openai>=1.0.0->-r requirements.txt (line 3)) (2.11.5)\n",
      "Requirement already satisfied: sniffio in c:\\users\\madan mohan malviya\\appdata\\local\\programs\\python\\python311\\lib\\site-packages (from openai>=1.0.0->-r requirements.txt (line 3)) (1.3.1)\n",
      "Requirement already satisfied: tqdm>4 in c:\\users\\madan mohan malviya\\appdata\\local\\programs\\python\\python311\\lib\\site-packages (from openai>=1.0.0->-r requirements.txt (line 3)) (4.67.1)\n",
      "Requirement already satisfied: packaging in c:\\users\\madan mohan malviya\\appdata\\local\\programs\\python\\python311\\lib\\site-packages (from faiss-cpu>=1.7.4->-r requirements.txt (line 4)) (25.0)\n",
      "Requirement already satisfied: colorama in c:\\users\\madan mohan malviya\\appdata\\local\\programs\\python\\python311\\lib\\site-packages (from ipython>=7.0.0->-r requirements.txt (line 6)) (0.4.6)\n",
      "Requirement already satisfied: decorator in c:\\users\\madan mohan malviya\\appdata\\local\\programs\\python\\python311\\lib\\site-packages (from ipython>=7.0.0->-r requirements.txt (line 6)) (5.2.1)\n",
      "Requirement already satisfied: ipython-pygments-lexers in c:\\users\\madan mohan malviya\\appdata\\local\\programs\\python\\python311\\lib\\site-packages (from ipython>=7.0.0->-r requirements.txt (line 6)) (1.1.1)\n",
      "Requirement already satisfied: jedi>=0.16 in c:\\users\\madan mohan malviya\\appdata\\local\\programs\\python\\python311\\lib\\site-packages (from ipython>=7.0.0->-r requirements.txt (line 6)) (0.19.2)\n",
      "Requirement already satisfied: matplotlib-inline in c:\\users\\madan mohan malviya\\appdata\\local\\programs\\python\\python311\\lib\\site-packages (from ipython>=7.0.0->-r requirements.txt (line 6)) (0.1.7)\n",
      "Requirement already satisfied: prompt_toolkit<3.1.0,>=3.0.41 in c:\\users\\madan mohan malviya\\appdata\\local\\programs\\python\\python311\\lib\\site-packages (from ipython>=7.0.0->-r requirements.txt (line 6)) (3.0.52)\n",
      "Requirement already satisfied: pygments>=2.4.0 in c:\\users\\madan mohan malviya\\appdata\\local\\programs\\python\\python311\\lib\\site-packages (from ipython>=7.0.0->-r requirements.txt (line 6)) (2.19.2)\n",
      "Requirement already satisfied: stack_data in c:\\users\\madan mohan malviya\\appdata\\local\\programs\\python\\python311\\lib\\site-packages (from ipython>=7.0.0->-r requirements.txt (line 6)) (0.6.3)\n",
      "Requirement already satisfied: traitlets>=5.13.0 in c:\\users\\madan mohan malviya\\appdata\\local\\programs\\python\\python311\\lib\\site-packages (from ipython>=7.0.0->-r requirements.txt (line 6)) (5.14.3)\n",
      "Requirement already satisfied: aiohappyeyeballs>=2.5.0 in c:\\users\\madan mohan malviya\\appdata\\local\\programs\\python\\python311\\lib\\site-packages (from aiohttp>=3.8.0->-r requirements.txt (line 7)) (2.6.1)\n",
      "Requirement already satisfied: aiosignal>=1.1.2 in c:\\users\\madan mohan malviya\\appdata\\local\\programs\\python\\python311\\lib\\site-packages (from aiohttp>=3.8.0->-r requirements.txt (line 7)) (1.3.2)\n",
      "Requirement already satisfied: attrs>=17.3.0 in c:\\users\\madan mohan malviya\\appdata\\local\\programs\\python\\python311\\lib\\site-packages (from aiohttp>=3.8.0->-r requirements.txt (line 7)) (25.3.0)\n",
      "Requirement already satisfied: frozenlist>=1.1.1 in c:\\users\\madan mohan malviya\\appdata\\local\\programs\\python\\python311\\lib\\site-packages (from aiohttp>=3.8.0->-r requirements.txt (line 7)) (1.7.0)\n",
      "Requirement already satisfied: multidict<7.0,>=4.5 in c:\\users\\madan mohan malviya\\appdata\\local\\programs\\python\\python311\\lib\\site-packages (from aiohttp>=3.8.0->-r requirements.txt (line 7)) (6.5.0)\n",
      "Requirement already satisfied: propcache>=0.2.0 in c:\\users\\madan mohan malviya\\appdata\\local\\programs\\python\\python311\\lib\\site-packages (from aiohttp>=3.8.0->-r requirements.txt (line 7)) (0.3.2)\n",
      "Requirement already satisfied: yarl<2.0,>=1.17.0 in c:\\users\\madan mohan malviya\\appdata\\local\\programs\\python\\python311\\lib\\site-packages (from aiohttp>=3.8.0->-r requirements.txt (line 7)) (1.20.1)\n",
      "Requirement already satisfied: httpcore==1.* in c:\\users\\madan mohan malviya\\appdata\\local\\programs\\python\\python311\\lib\\site-packages (from httpx<1,>=0.23.0->openai>=1.0.0->-r requirements.txt (line 3)) (1.0.9)\n",
      "Requirement already satisfied: h11>=0.16 in c:\\users\\madan mohan malviya\\appdata\\local\\programs\\python\\python311\\lib\\site-packages (from httpcore==1.*->httpx<1,>=0.23.0->openai>=1.0.0->-r requirements.txt (line 3)) (0.16.0)\n",
      "Requirement already satisfied: parso<0.9.0,>=0.8.4 in c:\\users\\madan mohan malviya\\appdata\\local\\programs\\python\\python311\\lib\\site-packages (from jedi>=0.16->ipython>=7.0.0->-r requirements.txt (line 6)) (0.8.5)\n",
      "Requirement already satisfied: wcwidth in c:\\users\\madan mohan malviya\\appdata\\local\\programs\\python\\python311\\lib\\site-packages (from prompt_toolkit<3.1.0,>=3.0.41->ipython>=7.0.0->-r requirements.txt (line 6)) (0.2.13)\n",
      "Requirement already satisfied: annotated-types>=0.6.0 in c:\\users\\madan mohan malviya\\appdata\\local\\programs\\python\\python311\\lib\\site-packages (from pydantic<3,>=1.9.0->openai>=1.0.0->-r requirements.txt (line 3)) (0.7.0)\n",
      "Requirement already satisfied: pydantic-core==2.33.2 in c:\\users\\madan mohan malviya\\appdata\\local\\programs\\python\\python311\\lib\\site-packages (from pydantic<3,>=1.9.0->openai>=1.0.0->-r requirements.txt (line 3)) (2.33.2)\n",
      "Requirement already satisfied: typing-inspection>=0.4.0 in c:\\users\\madan mohan malviya\\appdata\\local\\programs\\python\\python311\\lib\\site-packages (from pydantic<3,>=1.9.0->openai>=1.0.0->-r requirements.txt (line 3)) (0.4.1)\n",
      "Requirement already satisfied: executing>=1.2.0 in c:\\users\\madan mohan malviya\\appdata\\local\\programs\\python\\python311\\lib\\site-packages (from stack_data->ipython>=7.0.0->-r requirements.txt (line 6)) (2.2.1)\n",
      "Requirement already satisfied: asttokens>=2.1.0 in c:\\users\\madan mohan malviya\\appdata\\local\\programs\\python\\python311\\lib\\site-packages (from stack_data->ipython>=7.0.0->-r requirements.txt (line 6)) (3.0.0)\n",
      "Requirement already satisfied: pure-eval in c:\\users\\madan mohan malviya\\appdata\\local\\programs\\python\\python311\\lib\\site-packages (from stack_data->ipython>=7.0.0->-r requirements.txt (line 6)) (0.2.3)\n"
     ]
    },
    {
     "name": "stderr",
     "output_type": "stream",
     "text": [
      "\n",
      "[notice] A new release of pip available: 22.3 -> 25.2\n",
      "[notice] To update, run: python.exe -m pip install --upgrade pip\n"
     ]
    }
   ],
   "source": [
    "!pip install -r requirements.txt"
   ]
  },
  {
   "cell_type": "code",
   "execution_count": 4,
   "id": "a15d8f20",
   "metadata": {},
   "outputs": [],
   "source": [
    "PROMPT = \"your prompt here\""
   ]
  },
  {
   "cell_type": "code",
   "execution_count": 5,
   "id": "6e1500b6",
   "metadata": {},
   "outputs": [],
   "source": [
    "API_KEY = \"your_api_key\""
   ]
  },
  {
   "cell_type": "code",
   "execution_count": null,
   "id": "6c6aa137",
   "metadata": {
    "scrolled": true
   },
   "outputs": [],
   "source": [
    "from IPython.display import Markdown, display\n",
    "import process\n",
    "\n",
    "response = process.call_sambanova_chat(prompt=PROMPT, api_key=API_KEY)\n",
    "display(Markdown(response))"
   ]
  },
  {
   "cell_type": "code",
   "execution_count": null,
   "id": "e0fcd7d9",
   "metadata": {},
   "outputs": [],
   "source": [
    "%cd .."
   ]
  }
 ],
 "metadata": {
  "kernelspec": {
   "display_name": "Python 3 (ipykernel)",
   "language": "python",
   "name": "python3"
  },
  "language_info": {
   "codemirror_mode": {
    "name": "ipython",
    "version": 3
   },
   "file_extension": ".py",
   "mimetype": "text/x-python",
   "name": "python",
   "nbconvert_exporter": "python",
   "pygments_lexer": "ipython3",
   "version": "3.11.0"
  }
 },
 "nbformat": 4,
 "nbformat_minor": 5
}
