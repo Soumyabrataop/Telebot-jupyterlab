{
 "cells": [
  {
   "cell_type": "markdown",
   "id": "5b9bd16f-d44c-4277-ba7b-c0448a7404ed",
   "metadata": {},
   "source": [
    "\n",
    "#VSC-5f5d8648\n",
    "markdown\n",
    "# Telebot AI Chatbot Notebook\n",
    "\n",
    "Enter your `API_KEY` and `PROMPT` below. (Mandatory)\n",
    "\n",
    "**How to get an API key**: Visit https://cloud.sambanova.ai/apis, sign in or create an account, then create an API key from the dashboard. Copy the key and keep it secret."
   ]
  },
  {
   "cell_type": "code",
   "execution_count": null,
   "id": "230b923d",
   "metadata": {},
   "outputs": [],
   "source": [
    "# Install requirements\n",
    "!pip install -r requirements.txt"
   ]
  },
  {
   "cell_type": "code",
   "execution_count": null,
   "id": "3367692f",
   "metadata": {},
   "outputs": [],
   "source": [
    "API_KEY = \"fa7a1e41-3f06-4cf0-acd6-9091b4e10050\"\n",
    "PROMPT = \"Hello who are you?\""
   ]
  },
  {
   "cell_type": "code",
   "execution_count": null,
   "id": "6c6aa137",
   "metadata": {},
   "outputs": [],
   "source": [
    "import process\n",
    "response = process.call_sambanova_chat(prompt=PROMPT, api_key=API_KEY)\n",
    "print(response)"
   ]
  }
 ],
 "metadata": {
  "kernelspec": {
   "display_name": "Python 3 (ipykernel)",
   "language": "python",
   "name": "python3"
  },
  "language_info": {
   "codemirror_mode": {
    "name": "ipython",
    "version": 3
   },
   "file_extension": ".py",
   "mimetype": "text/x-python",
   "name": "python",
   "nbconvert_exporter": "python",
   "pygments_lexer": "ipython3",
   "version": "3.11.0"
  }
 },
 "nbformat": 4,
 "nbformat_minor": 5
}
